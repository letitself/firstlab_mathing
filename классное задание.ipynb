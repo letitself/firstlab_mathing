{
  "nbformat": 4,
  "nbformat_minor": 0,
  "metadata": {
    "colab": {
      "name": "eblyaaa.ipynb",
      "provenance": []
    },
    "kernelspec": {
      "name": "python3",
      "display_name": "Python 3"
    }
  },
  "cells": [
    {
      "cell_type": "code",
      "metadata": {
        "id": "jiwajgeIgP_l",
        "outputId": "d5262808-7975-4c3c-e05b-bdd7e00d603c",
        "colab": {
          "base_uri": "https://localhost:8080/",
          "height": 34
        }
      },
      "source": [
        "import numpy\n",
        "import pandas as pd\n",
        "needed = float(input())"
      ],
      "execution_count": null,
      "outputs": [
        {
          "output_type": "stream",
          "text": [
            "10.2\n"
          ],
          "name": "stdout"
        }
      ]
    },
    {
      "cell_type": "markdown",
      "metadata": {
        "id": "5cVr7nqcrrGW"
      },
      "source": [
        "Пользователь вводит значение, которое будет являться индексом."
      ]
    },
    {
      "cell_type": "code",
      "metadata": {
        "id": "b1DUGobMgZjV"
      },
      "source": [
        "def create_data():\n",
        "    return (pd.DataFrame({'city': ['Moscow', 'London', 'London', 'Kiev', 'Moscow', 'Moscow', 'Kiev','Moscow'], 'income': [10.2, 11.6, 8.8, 9.0, 6.6, 10.0, 9.0, 7.2]}))"
      ],
      "execution_count": null,
      "outputs": []
    },
    {
      "cell_type": "markdown",
      "metadata": {
        "id": "pM0CwrMoryaM"
      },
      "source": [
        "Обрабатываем многомерные данные и организовываем их в датафрейм с помощью библиотеки Pandas"
      ]
    },
    {
      "cell_type": "code",
      "metadata": {
        "id": "Y_Xd2_KYkw5a",
        "outputId": "21b8d329-afca-48ac-d5e4-bd14ce7e8168",
        "colab": {
          "base_uri": "https://localhost:8080/",
          "height": 297
        }
      },
      "source": [
        "data = create_data()\n",
        "data"
      ],
      "execution_count": null,
      "outputs": [
        {
          "output_type": "execute_result",
          "data": {
            "text/html": [
              "<div>\n",
              "<style scoped>\n",
              "    .dataframe tbody tr th:only-of-type {\n",
              "        vertical-align: middle;\n",
              "    }\n",
              "\n",
              "    .dataframe tbody tr th {\n",
              "        vertical-align: top;\n",
              "    }\n",
              "\n",
              "    .dataframe thead th {\n",
              "        text-align: right;\n",
              "    }\n",
              "</style>\n",
              "<table border=\"1\" class=\"dataframe\">\n",
              "  <thead>\n",
              "    <tr style=\"text-align: right;\">\n",
              "      <th></th>\n",
              "      <th>city</th>\n",
              "      <th>income</th>\n",
              "    </tr>\n",
              "  </thead>\n",
              "  <tbody>\n",
              "    <tr>\n",
              "      <th>0</th>\n",
              "      <td>Moscow</td>\n",
              "      <td>10.2</td>\n",
              "    </tr>\n",
              "    <tr>\n",
              "      <th>1</th>\n",
              "      <td>London</td>\n",
              "      <td>11.6</td>\n",
              "    </tr>\n",
              "    <tr>\n",
              "      <th>2</th>\n",
              "      <td>London</td>\n",
              "      <td>8.8</td>\n",
              "    </tr>\n",
              "    <tr>\n",
              "      <th>3</th>\n",
              "      <td>Kiev</td>\n",
              "      <td>9.0</td>\n",
              "    </tr>\n",
              "    <tr>\n",
              "      <th>4</th>\n",
              "      <td>Moscow</td>\n",
              "      <td>6.6</td>\n",
              "    </tr>\n",
              "    <tr>\n",
              "      <th>5</th>\n",
              "      <td>Moscow</td>\n",
              "      <td>10.0</td>\n",
              "    </tr>\n",
              "    <tr>\n",
              "      <th>6</th>\n",
              "      <td>Kiev</td>\n",
              "      <td>9.0</td>\n",
              "    </tr>\n",
              "    <tr>\n",
              "      <th>7</th>\n",
              "      <td>Moscow</td>\n",
              "      <td>7.2</td>\n",
              "    </tr>\n",
              "  </tbody>\n",
              "</table>\n",
              "</div>"
            ],
            "text/plain": [
              "     city  income\n",
              "0  Moscow    10.2\n",
              "1  London    11.6\n",
              "2  London     8.8\n",
              "3    Kiev     9.0\n",
              "4  Moscow     6.6\n",
              "5  Moscow    10.0\n",
              "6    Kiev     9.0\n",
              "7  Moscow     7.2"
            ]
          },
          "metadata": {
            "tags": []
          },
          "execution_count": 15
        }
      ]
    },
    {
      "cell_type": "code",
      "metadata": {
        "id": "yjGiTCNGqMEf",
        "outputId": "fd14c84d-bc22-4ab2-8eb8-b274aaa03082",
        "colab": {
          "base_uri": "https://localhost:8080/",
          "height": 34
        }
      },
      "source": [
        "cities = data['city']\n",
        "indexes = data['income']\n",
        "for i in range(len(indexes)):\n",
        "  if indexes[i] == needed:\n",
        "    print(cities[i])"
      ],
      "execution_count": null,
      "outputs": [
        {
          "output_type": "stream",
          "text": [
            "Moscow\n"
          ],
          "name": "stdout"
        }
      ]
    },
    {
      "cell_type": "markdown",
      "metadata": {
        "id": "iclqX9Nzr5xy"
      },
      "source": [
        "По введенному индексу находим нужное нам категориальное значение и выводим его."
      ]
    }
  ]
}